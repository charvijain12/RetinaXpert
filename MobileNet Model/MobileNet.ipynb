{
 "cells": [
  {
   "cell_type": "markdown",
   "id": "5d2119a8",
   "metadata": {},
   "source": [
    "# MobileNet Model for EDP\n",
    "\n",
    "### Author - Charvi Jain and Shaurya Singh Srinet "
   ]
  },
  {
   "cell_type": "markdown",
   "id": "6bb5d403",
   "metadata": {},
   "source": [
    "### Importing required libraries"
   ]
  },
  {
   "cell_type": "code",
   "execution_count": 1,
   "id": "67142d68",
   "metadata": {},
   "outputs": [
    {
     "name": "stderr",
     "output_type": "stream",
     "text": [
      "C:\\Users\\Charvi Jain\\anaconda3\\Lib\\site-packages\\tensorflow_addons\\utils\\tfa_eol_msg.py:23: UserWarning: \n",
      "\n",
      "TensorFlow Addons (TFA) has ended development and introduction of new features.\n",
      "TFA has entered a minimal maintenance and release mode until a planned end of life in May 2024.\n",
      "Please modify downstream libraries to take dependencies from other repositories in our TensorFlow community (e.g. Keras, Keras-CV, and Keras-NLP). \n",
      "\n",
      "For more information see: https://github.com/tensorflow/addons/issues/2807 \n",
      "\n",
      "  warnings.warn(\n"
     ]
    }
   ],
   "source": [
    "import numpy as np\n",
    "import pandas as pd\n",
    "import os\n",
    "import matplotlib.pyplot as plt\n",
    "import os, gdown, cv2, shutil, math\n",
    "from glob import glob\n",
    "from sklearn.model_selection import train_test_split, KFold\n",
    "from tqdm import tqdm\n",
    "from keras.layers import *\n",
    "from keras.models import Model, load_model, Sequential\n",
    "from keras.preprocessing.image import ImageDataGenerator\n",
    "from keras.callbacks import EarlyStopping, ModelCheckpoint\n",
    "from tensorflow_addons.metrics import F1Score\n",
    "from sklearn.metrics import confusion_matrix"
   ]
  },
  {
   "cell_type": "markdown",
   "id": "fa2972c8",
   "metadata": {},
   "source": [
    "### Reading dataset "
   ]
  },
  {
   "cell_type": "code",
   "execution_count": 2,
   "id": "ddd39f9c",
   "metadata": {},
   "outputs": [
    {
     "name": "stdout",
     "output_type": "stream",
     "text": [
      "Dataset Accessed from Local Machine\n",
      "Dataset Accessed from Local Machine\n",
      "Dataset Accessed from Local Machine\n",
      "Dataset Accessed from Local Machine\n",
      "Dataset Accessed from Local Machine\n"
     ]
    }
   ],
   "source": [
    "input_directory = r\"C:\\Users\\Charvi Jain\\Downloads\\dataset\"\n",
    "\n",
    "for dirname, _, filenames in os.walk(input_directory):\n",
    "        print(\"Dataset Accessed from Local Machine\")\n"
   ]
  },
  {
   "cell_type": "markdown",
   "id": "24ddbb2b",
   "metadata": {},
   "source": [
    "### Data Distribition Chart"
   ]
  },
  {
   "cell_type": "code",
   "execution_count": 3,
   "id": "3e1dd29f",
   "metadata": {},
   "outputs": [
    {
     "data": {
      "image/png": "[encoded data removed]",
      "text/plain": [
       "<Figure size 800x600 with 1 Axes>"
      ]
     },
     "metadata": {},
     "output_type": "display_data"
    }
   ],
   "source": [
    "import matplotlib.pyplot as plt\n",
    "class_names = [\"glaucoma\", \"cataract\", \"normal\", \"diabetic_retinopathy\"]\n",
    "# Count for each class\n",
    "count_for_class_0 = 1007\n",
    "count_for_class_1 = 1038\n",
    "count_for_class_2 = 1074\n",
    "count_for_class_3 = 1098\n",
    "\n",
    "# Create a list with the counts\n",
    "class_counts = [count_for_class_0, count_for_class_1, count_for_class_2, count_for_class_3]\n",
    "\n",
    "# Define bright colors for the bar graph\n",
    "colors = ['hotpink', 'lightgreen', 'violet', 'cyan']\n",
    "\n",
    "# Create a bar graph\n",
    "plt.figure(figsize=(8, 6))\n",
    "plt.bar(class_names, class_counts, color=colors)\n",
    "\n",
    "# Add labels and a title\n",
    "plt.xlabel(\"Class\")\n",
    "plt.ylabel(\"Count\")\n",
    "plt.title(\"Data Distribution\")\n",
    "\n",
    "# Show the bar graph\n",
    "plt.show()\n"
   ]
  },
  {
   "cell_type": "markdown",
   "id": "9f94c4ca",
   "metadata": {},
   "source": [
    "### Creating Dataframe"
   ]
  },
  {
   "cell_type": "code",
   "execution_count": 4,
   "id": "8ffbdabf",
   "metadata": {},
   "outputs": [
    {
     "name": "stderr",
     "output_type": "stream",
     "text": [
      "cataract               : 100%|\u001b[34m██████████████████████████████████████████\u001b[0m| 1038/1038 [00:31<00:00, 33.47file/s]\u001b[0m\n",
      "diabetic_retinopathy   : 100%|\u001b[34m██████████████████████████████████████████\u001b[0m| 1098/1098 [00:11<00:00, 96.38file/s]\u001b[0m\n",
      "glaucoma               : 100%|\u001b[34m██████████████████████████████████████████\u001b[0m| 1007/1007 [00:29<00:00, 33.85file/s]\u001b[0m\n",
      "normal                 : 100%|\u001b[34m█████████████████████████████████████████\u001b[0m| 1074/1074 [00:10<00:00, 101.22file/s]\u001b[0m\n"
     ]
    },
    {
     "name": "stdout",
     "output_type": "stream",
     "text": [
      "number of classes in processed dataset=  4\n",
      "the maximum files in any class in train_df is  878  the minimum files in any class in train_df is  806\n",
      "train_df length:  3373   test_df length:  422   valid_df length:  422\n",
      "average image height=  437   average image width=  453  aspect ratio h/w=  0.9646799116997793\n"
     ]
    }
   ],
   "source": [
    "sdir = r\"C:\\Users\\Charvi Jain\\Downloads\\dataset\"\n",
    "\n",
    "\n",
    "def make_dataframes(sdir):\n",
    "    bad_images = []\n",
    "    good_ext = ['jpg', 'jpeg', 'png', 'tiff']\n",
    "    filepaths = []\n",
    "    labels = []\n",
    "    classes = sorted(os.listdir(sdir))\n",
    "    for klass in classes:\n",
    "        classpath = os.path.join(sdir, klass)\n",
    "        flist = sorted(os.listdir(classpath))\n",
    "        desc = f'{klass:23s}'\n",
    "        for f in tqdm(flist, ncols=110, desc=desc, unit='file', colour='blue'):\n",
    "            fpath = os.path.join(classpath, f)\n",
    "            fl = f.lower()\n",
    "            index = fl.rfind('.')\n",
    "            ext = fl[index + 1:]\n",
    "            if ext in good_ext:\n",
    "                try:\n",
    "                    img = cv2.imread(fpath)\n",
    "                    shape = img.shape\n",
    "                    filepaths.append(fpath)\n",
    "                    labels.append(klass)\n",
    "                except:\n",
    "                    bad_images.append(fpath)\n",
    "                    print('defective image file: ', fpath)\n",
    "            else:\n",
    "                bad_images.append(fpath)\n",
    "    Fseries = pd.Series(filepaths, name='filepaths')\n",
    "    Lseries = pd.Series(labels, name='labels')\n",
    "    df = pd.concat([Fseries, Lseries], axis=1)\n",
    "\n",
    "    train_df, dummy_df = train_test_split(df, train_size=.8, shuffle=True, random_state=123, stratify=df['labels'])\n",
    "    valid_df, test_df = train_test_split(dummy_df, train_size=.5, shuffle=True, random_state=123,\n",
    "                                         stratify=dummy_df['labels'])\n",
    "    classes = sorted(train_df['labels'].unique())\n",
    "    class_count = len(classes)\n",
    "    sample_df = train_df.sample(n=50, replace=False)\n",
    "\n",
    "    ht = 0\n",
    "    wt = 0\n",
    "    count = 0\n",
    "    for i in range(len(sample_df)):\n",
    "        fpath = sample_df['filepaths'].iloc[i]\n",
    "        try:\n",
    "            img = cv2.imread(fpath)\n",
    "            h = img.shape[0]\n",
    "            w = img.shape[1]\n",
    "            wt += w\n",
    "            ht += h\n",
    "            count += 1\n",
    "        except:\n",
    "            pass\n",
    "    have = int(ht / count)\n",
    "    wave = int(wt / count)\n",
    "    aspect_ratio = have / wave\n",
    "    print('number of classes in processed dataset= ', class_count)\n",
    "    counts = list(train_df['labels'].value_counts())\n",
    "    print('the maximum files in any class in train_df is ', max(counts),\n",
    "          ' the minimum files in any class in train_df is ', min(counts))\n",
    "    print('train_df length: ', len(train_df), '  test_df length: ', len(test_df), '  valid_df length: ', len(valid_df))\n",
    "    print('average image height= ', have, '  average image width= ', wave, ' aspect ratio h/w= ', aspect_ratio)\n",
    "    return train_df, test_df, valid_df\n",
    "\n",
    "\n",
    "train_df, test_df, valid_df = make_dataframes(sdir=sdir)"
   ]
  },
  {
   "cell_type": "markdown",
   "id": "f0d1c865",
   "metadata": {},
   "source": [
    "### Creating Data using ImageGenerator"
   ]
  },
  {
   "cell_type": "code",
   "execution_count": 5,
   "id": "60424f54",
   "metadata": {},
   "outputs": [
    {
     "name": "stdout",
     "output_type": "stream",
     "text": [
      "Found 3373 validated image filenames belonging to 4 classes.\n",
      "Found 422 validated image filenames belonging to 4 classes.\n",
      "Found 422 validated image filenames belonging to 4 classes.\n"
     ]
    }
   ],
   "source": [
    "batch_size = 64\n",
    "img_height, img_width = 300, 300\n",
    "img_size = (img_height, img_width)\n",
    "input_shape = (img_height, img_width, 3)\n",
    "\n",
    "def create_data(batch_size, train_df, test_df, valid_df, img_size):\n",
    "    train_gen = ImageDataGenerator(rescale=1/255.0, rotation_range=20, vertical_flip=True, shear_range=0.2, dtype=float)\n",
    "    test_gen = ImageDataGenerator(rescale=1/255.0, dtype=float)\n",
    "    \n",
    "    train_set = train_gen.flow_from_dataframe(train_df, x_col='filepaths', y_col='labels', target_size=img_size, class_mode='categorical', batch_size=batch_size)\n",
    "    test_set = test_gen.flow_from_dataframe(test_df, x_col='filepaths', y_col='labels', target_size=img_size, class_mode='categorical', batch_size=batch_size)\n",
    "    val_set = test_gen.flow_from_dataframe(valid_df, x_col='filepaths', y_col='labels', target_size=img_size, class_mode='categorical', batch_size=batch_size)\n",
    "    \n",
    "    return train_set, test_set, val_set\n",
    "\n",
    "\n",
    "train_set, test_set, val_set = create_data(batch_size, train_df, test_df, valid_df, img_size)"
   ]
  },
  {
   "cell_type": "markdown",
   "id": "d2ae4d5b",
   "metadata": {},
   "source": [
    "### Label Mapping"
   ]
  },
  {
   "cell_type": "code",
   "execution_count": 6,
   "id": "a2fb1dd5",
   "metadata": {},
   "outputs": [
    {
     "data": {
      "text/plain": [
       "{0: 'cataract', 1: 'diabetic_retinopathy', 2: 'glaucoma', 3: 'normal'}"
      ]
     },
     "execution_count": 6,
     "metadata": {},
     "output_type": "execute_result"
    }
   ],
   "source": [
    "label_dict = {v:k for k,v in train_set.class_indices.items()}\n",
    "label_dict"
   ]
  },
  {
   "cell_type": "markdown",
   "id": "e79e52d1",
   "metadata": {},
   "source": [
    "### Initializing model generating and callback function"
   ]
  },
  {
   "cell_type": "code",
   "execution_count": 7,
   "id": "90844557",
   "metadata": {},
   "outputs": [],
   "source": [
    "def generate_model(pretrained_base,name=None):\n",
    "\n",
    "    pretrained_base.trainable=False\n",
    "    model = Sequential([\n",
    "        pretrained_base,\n",
    "        Flatten(),\n",
    "        Dense(units=512, activation='relu'),\n",
    "        Dense(units=256, activation='relu'),\n",
    "        Dense(units=128, activation='relu'),\n",
    "        Dense(units=64, activation='relu'),\n",
    "        Dense(units=4, activation='softmax')\n",
    "    ], name=name)\n",
    "    model.compile(optimizer='adam', loss='categorical_crossentropy', metrics=['categorical_accuracy', F1Score(num_classes=4)])\n",
    "    \n",
    "    return model"
   ]
  },
  {
   "cell_type": "code",
   "execution_count": 8,
   "id": "ff772086",
   "metadata": {},
   "outputs": [],
   "source": [
    "def generate_callbacks(MobileNet):\n",
    "    checkpoint = ModelCheckpoint(filepath=f'MobileNet.h5', save_best_only=True, save_weights_only=True)\n",
    "    return [checkpoint]\n"
   ]
  },
  {
   "cell_type": "markdown",
   "id": "1821ef75",
   "metadata": {},
   "source": [
    "### Configuring a MobileNet model"
   ]
  },
  {
   "cell_type": "code",
   "execution_count": 9,
   "id": "ae25df8d",
   "metadata": {},
   "outputs": [
    {
     "name": "stdout",
     "output_type": "stream",
     "text": [
      "WARNING:tensorflow:`input_shape` is undefined or non-square, or `rows` is not in [128, 160, 192, 224]. Weights for input shape (224, 224) will be loaded as the default.\n"
     ]
    }
   ],
   "source": [
    "import tensorflow as tf\n",
    "pretrained_params = {\n",
    "    'weights':'imagenet',\n",
    "    'include_top':False,\n",
    "    'input_shape':input_shape\n",
    "}\n",
    "\n",
    "\n",
    "pretrained_models = {\n",
    "    'MobileNet':tf.keras.applications.MobileNet(**pretrained_params)\n",
    "}\n",
    "\n",
    "\n",
    "fit_args = {\n",
    "    'epochs':10,\n",
    "    'steps_per_epoch':train_set.n//train_set.batch_size,\n",
    "    'validation_data':val_set,\n",
    "    'validation_steps':val_set.n//val_set.batch_size\n",
    "}"
   ]
  },
  {
   "cell_type": "code",
   "execution_count": 10,
   "id": "b389ad7c",
   "metadata": {},
   "outputs": [
    {
     "name": "stdout",
     "output_type": "stream",
     "text": [
      "Epoch 1/10\n",
      "52/52 [==============================] - 694s 13s/step - loss: 3.9785 - categorical_accuracy: 0.6908 - f1_score: 0.6902 - val_loss: 1.2352 - val_categorical_accuracy: 0.8490 - val_f1_score: 0.8318\n",
      "Epoch 2/10\n",
      "52/52 [==============================] - 682s 13s/step - loss: 0.9827 - categorical_accuracy: 0.8311 - f1_score: 0.8290 - val_loss: 1.1565 - val_categorical_accuracy: 0.8750 - val_f1_score: 0.8693\n",
      "Epoch 3/10\n",
      "52/52 [==============================] - 1242s 24s/step - loss: 0.5889 - categorical_accuracy: 0.8837 - f1_score: 0.8818 - val_loss: 0.3311 - val_categorical_accuracy: 0.8958 - val_f1_score: 0.8868\n",
      "Epoch 4/10\n",
      "52/52 [==============================] - 1300s 25s/step - loss: 0.3044 - categorical_accuracy: 0.9121 - f1_score: 0.9108 - val_loss: 0.2266 - val_categorical_accuracy: 0.9245 - val_f1_score: 0.9244\n",
      "Epoch 5/10\n",
      "52/52 [==============================] - 1048s 20s/step - loss: 0.2010 - categorical_accuracy: 0.9368 - f1_score: 0.9360 - val_loss: 0.2844 - val_categorical_accuracy: 0.9323 - val_f1_score: 0.9295\n",
      "Epoch 6/10\n",
      "52/52 [==============================] - 973s 19s/step - loss: 0.3147 - categorical_accuracy: 0.9118 - f1_score: 0.9101 - val_loss: 0.3801 - val_categorical_accuracy: 0.9375 - val_f1_score: 0.9370\n",
      "Epoch 7/10\n",
      "52/52 [==============================] - 530s 10s/step - loss: 0.2310 - categorical_accuracy: 0.9266 - f1_score: 0.9253 - val_loss: 0.2807 - val_categorical_accuracy: 0.9349 - val_f1_score: 0.9340\n",
      "Epoch 8/10\n",
      "52/52 [==============================] - 659s 13s/step - loss: 0.1762 - categorical_accuracy: 0.9414 - f1_score: 0.9404 - val_loss: 0.3752 - val_categorical_accuracy: 0.9245 - val_f1_score: 0.9234\n",
      "Epoch 9/10\n",
      "52/52 [==============================] - 424s 8s/step - loss: 0.1141 - categorical_accuracy: 0.9592 - f1_score: 0.9584 - val_loss: 0.3107 - val_categorical_accuracy: 0.9271 - val_f1_score: 0.9264\n",
      "Epoch 10/10\n",
      "52/52 [==============================] - 200s 4s/step - loss: 0.0892 - categorical_accuracy: 0.9674 - f1_score: 0.9669 - val_loss: 0.2860 - val_categorical_accuracy: 0.9427 - val_f1_score: 0.9425\n"
     ]
    },
    {
     "name": "stderr",
     "output_type": "stream",
     "text": [
      "C:\\Users\\Charvi Jain\\anaconda3\\Lib\\site-packages\\keras\\src\\engine\\training.py:3079: UserWarning: You are saving your model as an HDF5 file via `model.save()`. This file format is considered legacy. We recommend using instead the native Keras format, e.g. `model.save('my_model.keras')`.\n",
      "  saving_api.save_model(\n"
     ]
    }
   ],
   "source": [
    "MobileNet_model = generate_model(pretrained_models['MobileNet'], name='MobileNet')\n",
    "callbacks = generate_callbacks('MobileNet')\n",
    "history = MobileNet_model.fit(train_set, callbacks=callbacks, **fit_args)\n",
    "MobileNet_model.save('MobileNet.h5')"
   ]
  },
  {
   "cell_type": "code",
   "execution_count": 11,
   "id": "8e903c20",
   "metadata": {},
   "outputs": [],
   "source": [
    "mobilenet = load_model('MobileNet.h5')"
   ]
  },
  {
   "cell_type": "code",
   "execution_count": 12,
   "id": "5928f4e5",
   "metadata": {},
   "outputs": [],
   "source": [
    "inputs = Input(shape=input_shape)\n",
    "mobilenet_preds = mobilenet(inputs)"
   ]
  },
  {
   "cell_type": "code",
   "execution_count": 13,
   "id": "d5106f9f",
   "metadata": {},
   "outputs": [],
   "source": [
    "outputs = mobilenet_preds  "
   ]
  },
  {
   "cell_type": "markdown",
   "id": "5eb011fc",
   "metadata": {},
   "source": [
    "### Plotting training & validation accuracy and loss values"
   ]
  },
  {
   "cell_type": "code",
   "execution_count": 15,
   "id": "7df091ef",
   "metadata": {},
   "outputs": [
    {
     "data": {
      "image/png": "[encoded data removed]",
      "text/plain": [
       "<Figure size 1200x600 with 2 Axes>"
      ]
     },
     "metadata": {},
     "output_type": "display_data"
    }
   ],
   "source": [
    "plt.figure(figsize=(12, 6))\n",
    "plt.subplot(1, 2, 1)\n",
    "plt.plot(history.history['categorical_accuracy'])\n",
    "plt.plot(history.history['val_categorical_accuracy'])\n",
    "plt.title('Model Accuracy')\n",
    "plt.xlabel('Epoch')\n",
    "plt.ylabel('Accuracy')\n",
    "plt.legend(['Train', 'Validation'], loc='upper left')\n",
    "\n",
    "# Plot training & validation loss values\n",
    "plt.subplot(1, 2, 2)\n",
    "plt.plot(history.history['loss'])\n",
    "plt.plot(history.history['val_loss'])\n",
    "plt.title('Model Loss')\n",
    "plt.xlabel('Epoch')\n",
    "plt.ylabel('Loss')\n",
    "plt.legend(['Train', 'Validation'], loc='upper left')\n",
    "\n",
    "plt.tight_layout()\n",
    "plt.show()\n"
   ]
  },
  {
   "cell_type": "code",
   "execution_count": 17,
   "id": "f23c8619",
   "metadata": {},
   "outputs": [
    {
     "name": "stdout",
     "output_type": "stream",
     "text": [
      "7/7 [==============================] - 12s 2s/step\n",
      "Confusion Matrix:\n",
      "[[30 21 28 25]\n",
      " [28 27 24 31]\n",
      " [30 25 24 22]\n",
      " [25 37 17 28]]\n",
      "\n",
      "Classification Report:\n",
      "                      precision    recall  f1-score   support\n",
      "\n",
      "            glaucoma       0.27      0.29      0.28       104\n",
      "            cataract       0.25      0.25      0.25       110\n",
      "              normal       0.26      0.24      0.25       101\n",
      "diabetic_retinopathy       0.26      0.26      0.26       107\n",
      "\n",
      "            accuracy                           0.26       422\n",
      "           macro avg       0.26      0.26      0.26       422\n",
      "        weighted avg       0.26      0.26      0.26       422\n",
      "\n"
     ]
    }
   ],
   "source": [
    "from sklearn.metrics import confusion_matrix, classification_report\n",
    "\n",
    "# Predictions on the test set\n",
    "test_predictions = MobileNet_model.predict(test_set)\n",
    "\n",
    "# Convert predictions to class labels\n",
    "test_pred_labels = np.argmax(test_predictions, axis=1)\n",
    "\n",
    "# Use the original labels from the generator\n",
    "test_true_labels = test_set.labels\n",
    "\n",
    "# If the true labels are not one-hot encoded, convert them\n",
    "if isinstance(test_true_labels[0], list):\n",
    "    test_true_labels = np.argmax(test_true_labels, axis=1)\n",
    "\n",
    "# Confusion Matrix\n",
    "conf_matrix = confusion_matrix(test_true_labels, test_pred_labels)\n",
    "print(\"Confusion Matrix:\")\n",
    "print(conf_matrix)\n",
    "\n",
    "# Classification Report\n",
    "class_report = classification_report(test_true_labels, test_pred_labels, target_names=class_names)\n",
    "print(\"\\nClassification Report:\")\n",
    "print(class_report)\n"
   ]
  },
  {
   "cell_type": "code",
   "execution_count": null,
   "id": "b28d956f",
   "metadata": {},
   "outputs": [],
   "source": []
  }
 ],
 "metadata": {
  "kernelspec": {
   "display_name": "Python 3 (ipykernel)",
   "language": "python",
   "name": "python3"
  },
  "language_info": {
   "codemirror_mode": {
    "name": "ipython",
    "version": 3
   },
   "file_extension": ".py",
   "mimetype": "text/x-python",
   "name": "python",
   "nbconvert_exporter": "python",
   "pygments_lexer": "ipython3",
   "version": "3.11.5"
  }
 },
 "nbformat": 4,
 "nbformat_minor": 5
}
