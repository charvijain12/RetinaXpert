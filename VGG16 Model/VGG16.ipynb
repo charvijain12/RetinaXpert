{
 "cells": [
  {
   "cell_type": "markdown",
   "id": "bb6051ee",
   "metadata": {},
   "source": [
    "# Ensemble Model - EDP\n",
    "\n",
    "### Author - Shaurya Singh Srinet and Charvi Jain"
   ]
  },
  {
   "cell_type": "markdown",
   "id": "b0f57426",
   "metadata": {},
   "source": [
    "### Importing required libraries"
   ]
  },
  {
   "cell_type": "code",
   "execution_count": 1,
   "id": "67142d68",
   "metadata": {
    "scrolled": true
   },
   "outputs": [
    {
     "name": "stderr",
     "output_type": "stream",
     "text": [
      "C:\\Users\\Shaurya\\anaconda3\\Lib\\site-packages\\tensorflow_addons\\utils\\tfa_eol_msg.py:23: UserWarning: \n",
      "\n",
      "TensorFlow Addons (TFA) has ended development and introduction of new features.\n",
      "TFA has entered a minimal maintenance and release mode until a planned end of life in May 2024.\n",
      "Please modify downstream libraries to take dependencies from other repositories in our TensorFlow community (e.g. Keras, Keras-CV, and Keras-NLP). \n",
      "\n",
      "For more information see: https://github.com/tensorflow/addons/issues/2807 \n",
      "\n",
      "  warnings.warn(\n"
     ]
    }
   ],
   "source": [
    "import numpy as np\n",
    "import pandas as pd\n",
    "import os\n",
    "import matplotlib.pyplot as plt\n",
    "import gdown\n",
    "import cv2\n",
    "import shutil\n",
    "import math\n",
    "from glob import glob\n",
    "from sklearn.model_selection import train_test_split, KFold\n",
    "from tqdm import tqdm\n",
    "from tensorflow.keras.layers import *\n",
    "from tensorflow.keras.models import Model, load_model, Sequential\n",
    "from tensorflow.keras.preprocessing.image import ImageDataGenerator\n",
    "from tensorflow.keras.callbacks import EarlyStopping, ModelCheckpoint\n",
    "from tensorflow_addons.metrics import F1Score\n",
    "from sklearn.metrics import confusion_matrix\n",
    "from tensorflow.keras.applications import VGG16\n",
    "from tensorflow.keras.metrics import CategoricalAccuracy, Precision, Recall\n"
   ]
  },
  {
   "cell_type": "markdown",
   "id": "5cf84536",
   "metadata": {},
   "source": [
    "### Reading input data"
   ]
  },
  {
   "cell_type": "code",
   "execution_count": 2,
   "id": "ddd39f9c",
   "metadata": {},
   "outputs": [
    {
     "name": "stdout",
     "output_type": "stream",
     "text": [
      "Dataset Accessed from Local Machine\n",
      "Dataset Accessed from Local Machine\n",
      "Dataset Accessed from Local Machine\n",
      "Dataset Accessed from Local Machine\n",
      "Dataset Accessed from Local Machine\n"
     ]
    }
   ],
   "source": [
    "input_directory = r\"C:\\Users\\Shaurya\\Desktop\\RetinaXpert\\dataset\"\n",
    "\n",
    "for dirname, _, filenames in os.walk(input_directory):\n",
    "        print(\"Dataset Accessed from Local Machine\")\n"
   ]
  },
  {
   "cell_type": "markdown",
   "id": "461d5f4f",
   "metadata": {},
   "source": [
    "### Data Distribution Graph"
   ]
  },
  {
   "cell_type": "code",
   "execution_count": 3,
   "id": "3e1dd29f",
   "metadata": {},
   "outputs": [
    {
     "data": {
      "image/png": "[encoded data removed]",
      "text/plain": [
       "<Figure size 800x600 with 1 Axes>"
      ]
     },
     "metadata": {},
     "output_type": "display_data"
    }
   ],
   "source": [
    "import matplotlib.pyplot as plt\n",
    "class_names = [\"glaucoma\", \"cataract\", \"normal\", \"diabetic_retinopathy\"]\n",
    "# Count for each class\n",
    "count_for_class_0 = 1007\n",
    "count_for_class_1 = 1038\n",
    "count_for_class_2 = 1074\n",
    "count_for_class_3 = 1098\n",
    "\n",
    "# Creating a list with the counts\n",
    "class_counts = [count_for_class_0, count_for_class_1, count_for_class_2, count_for_class_3]\n",
    "\n",
    "# Defining colors for the bar graph\n",
    "colors = ['darkorange', 'deepskyblue', 'rosybrown', 'bisque']\n",
    "\n",
    "# Creating a bar graph\n",
    "plt.figure(figsize=(8, 6))\n",
    "plt.bar(class_names, class_counts, color=colors)\n",
    "\n",
    "# Adding labels and a title\n",
    "plt.xlabel(\"Class\")\n",
    "plt.ylabel(\"Count\")\n",
    "plt.title(\"Data Distribution\")\n",
    "\n",
    "plt.show()\n"
   ]
  },
  {
   "cell_type": "markdown",
   "id": "9656b275",
   "metadata": {},
   "source": [
    "### Making Dataframes"
   ]
  },
  {
   "cell_type": "code",
   "execution_count": 4,
   "id": "8ffbdabf",
   "metadata": {},
   "outputs": [
    {
     "name": "stderr",
     "output_type": "stream",
     "text": [
      "cataract               : 100%|\u001b[34m██████████████████████████████████████████\u001b[0m| 1038/1038 [00:22<00:00, 45.16file/s]\u001b[0m\n",
      "diabetic_retinopathy   : 100%|\u001b[34m██████████████████████████████████████████\u001b[0m| 1098/1098 [00:13<00:00, 84.22file/s]\u001b[0m\n",
      "glaucoma               : 100%|\u001b[34m██████████████████████████████████████████\u001b[0m| 1007/1007 [00:23<00:00, 42.57file/s]\u001b[0m\n",
      "normal                 : 100%|\u001b[34m██████████████████████████████████████████\u001b[0m| 1074/1074 [00:11<00:00, 94.20file/s]\u001b[0m\n"
     ]
    },
    {
     "name": "stdout",
     "output_type": "stream",
     "text": [
      "number of classes in processed dataset=  4\n",
      "the maximum files in any class in train_df is  878  the minimum files in any class in train_df is  806\n",
      "train_df length:  3373   test_df length:  422   valid_df length:  422\n",
      "average image height=  430   average image width=  430  aspect ratio h/w=  1.0\n"
     ]
    }
   ],
   "source": [
    "sdir = r\"C:\\Users\\Shaurya\\Desktop\\RetinaXpert\\dataset\"\n",
    "\n",
    "\n",
    "def make_dataframes(sdir):\n",
    "    bad_images = []\n",
    "    good_ext = ['jpg', 'jpeg', 'png', 'tiff']\n",
    "    filepaths = []\n",
    "    labels = []\n",
    "    classes = sorted(os.listdir(sdir))\n",
    "    for klass in classes:\n",
    "        classpath = os.path.join(sdir, klass)\n",
    "        flist = sorted(os.listdir(classpath))\n",
    "        desc = f'{klass:23s}'\n",
    "        for f in tqdm(flist, ncols=110, desc=desc, unit='file', colour='blue'):\n",
    "            fpath = os.path.join(classpath, f)\n",
    "            fl = f.lower()\n",
    "            index = fl.rfind('.')\n",
    "            ext = fl[index + 1:]\n",
    "            if ext in good_ext:\n",
    "                try:\n",
    "                    img = cv2.imread(fpath)\n",
    "                    shape = img.shape\n",
    "                    filepaths.append(fpath)\n",
    "                    labels.append(klass)\n",
    "                except:\n",
    "                    bad_images.append(fpath)\n",
    "                    print('defective image file: ', fpath)\n",
    "            else:\n",
    "                bad_images.append(fpath)\n",
    "    Fseries = pd.Series(filepaths, name='filepaths')\n",
    "    Lseries = pd.Series(labels, name='labels')\n",
    "    df = pd.concat([Fseries, Lseries], axis=1)\n",
    "\n",
    "    train_df, dummy_df = train_test_split(df, train_size=.8, shuffle=True, random_state=123, stratify=df['labels'])\n",
    "    valid_df, test_df = train_test_split(dummy_df, train_size=.5, shuffle=True, random_state=123,\n",
    "                                         stratify=dummy_df['labels'])\n",
    "    classes = sorted(train_df['labels'].unique())\n",
    "    class_count = len(classes)\n",
    "    sample_df = train_df.sample(n=50, replace=False)\n",
    "\n",
    "    ht = 0\n",
    "    wt = 0\n",
    "    count = 0\n",
    "    for i in range(len(sample_df)):\n",
    "        fpath = sample_df['filepaths'].iloc[i]\n",
    "        try:\n",
    "            img = cv2.imread(fpath)\n",
    "            h = img.shape[0]\n",
    "            w = img.shape[1]\n",
    "            wt += w\n",
    "            ht += h\n",
    "            count += 1\n",
    "        except:\n",
    "            pass\n",
    "    have = int(ht / count)\n",
    "    wave = int(wt / count)\n",
    "    aspect_ratio = have / wave\n",
    "    print('number of classes in processed dataset= ', class_count)\n",
    "    counts = list(train_df['labels'].value_counts())\n",
    "    print('the maximum files in any class in train_df is ', max(counts),\n",
    "          ' the minimum files in any class in train_df is ', min(counts))\n",
    "    print('train_df length: ', len(train_df), '  test_df length: ', len(test_df), '  valid_df length: ', len(valid_df))\n",
    "    print('average image height= ', have, '  average image width= ', wave, ' aspect ratio h/w= ', aspect_ratio)\n",
    "    return train_df, test_df, valid_df\n",
    "\n",
    "\n",
    "train_df, test_df, valid_df = make_dataframes(sdir=sdir)"
   ]
  },
  {
   "cell_type": "markdown",
   "id": "489479b3",
   "metadata": {},
   "source": [
    "### Creating Data using ImageGenerator"
   ]
  },
  {
   "cell_type": "code",
   "execution_count": 5,
   "id": "60424f54",
   "metadata": {},
   "outputs": [
    {
     "name": "stdout",
     "output_type": "stream",
     "text": [
      "Found 3373 validated image filenames belonging to 4 classes.\n",
      "Found 422 validated image filenames belonging to 4 classes.\n",
      "Found 422 validated image filenames belonging to 4 classes.\n"
     ]
    }
   ],
   "source": [
    "batch_size = 64\n",
    "img_height, img_width = 300, 300\n",
    "img_size = (img_height, img_width)\n",
    "input_shape = (img_height, img_width, 3)\n",
    "\n",
    "def create_data(batch_size, train_df, test_df, valid_df, img_size):\n",
    "    train_gen = ImageDataGenerator(rescale=1/255.0, rotation_range=20, vertical_flip=True, shear_range=0.2, dtype=float)\n",
    "    test_gen = ImageDataGenerator(rescale=1/255.0, dtype=float)\n",
    "    \n",
    "    train_set = train_gen.flow_from_dataframe(train_df, x_col='filepaths', y_col='labels', target_size=img_size, class_mode='categorical', batch_size=batch_size)\n",
    "    test_set = test_gen.flow_from_dataframe(test_df, x_col='filepaths', y_col='labels', target_size=img_size, class_mode='categorical', batch_size=batch_size)\n",
    "    val_set = test_gen.flow_from_dataframe(valid_df, x_col='filepaths', y_col='labels', target_size=img_size, class_mode='categorical', batch_size=batch_size)\n",
    "    \n",
    "    return train_set, test_set, val_set\n",
    "\n",
    "\n",
    "train_set, test_set, val_set = create_data(batch_size, train_df, test_df, valid_df, img_size)"
   ]
  },
  {
   "cell_type": "markdown",
   "id": "8ecef1e9",
   "metadata": {},
   "source": [
    "### Label Mapping"
   ]
  },
  {
   "cell_type": "code",
   "execution_count": 6,
   "id": "a2fb1dd5",
   "metadata": {},
   "outputs": [
    {
     "data": {
      "text/plain": [
       "{0: 'cataract', 1: 'diabetic_retinopathy', 2: 'glaucoma', 3: 'normal'}"
      ]
     },
     "execution_count": 6,
     "metadata": {},
     "output_type": "execute_result"
    }
   ],
   "source": [
    "label_dict = {v:k for k,v in train_set.class_indices.items()}\n",
    "label_dict"
   ]
  },
  {
   "cell_type": "markdown",
   "id": "b861ddd6",
   "metadata": {},
   "source": [
    "### Initializing model generating and callback function"
   ]
  },
  {
   "cell_type": "code",
   "execution_count": 7,
   "id": "1c5a1e25",
   "metadata": {},
   "outputs": [],
   "source": [
    "# Function to generate the VGG16 model\n",
    "def generate_vgg16_model(input_shape, num_classes, name=None):\n",
    "    vgg16_base = VGG16(weights='imagenet', include_top=False, input_shape=input_shape)\n",
    "\n",
    "    vgg16_base.trainable = False\n",
    "    \n",
    "    model = Sequential([\n",
    "        vgg16_base,\n",
    "        Flatten(),\n",
    "        Dense(units=512, activation='relu'),\n",
    "        Dense(units=256, activation='relu'),\n",
    "        Dense(units=128, activation='relu'),\n",
    "        Dense(units=64, activation='relu'),\n",
    "        Dense(units=num_classes, activation='softmax')\n",
    "    ], name=name)\n",
    "\n",
    "    model.compile(optimizer='adam',\n",
    "                  loss='categorical_crossentropy',\n",
    "                  metrics=[CategoricalAccuracy(), Precision(), Recall()])\n",
    "    \n",
    "    return model"
   ]
  },
  {
   "cell_type": "markdown",
   "id": "c0be925a",
   "metadata": {},
   "source": [
    "### Function to generate callbacks"
   ]
  },
  {
   "cell_type": "code",
   "execution_count": 8,
   "id": "1c73797a",
   "metadata": {},
   "outputs": [],
   "source": [
    "def generate_callbacks(model):\n",
    "    checkpoint = ModelCheckpoint(filepath='VGG16_best_model.h5',\n",
    "                                 save_best_only=True,\n",
    "                                 save_weights_only=True)\n",
    "    return [checkpoint]"
   ]
  },
  {
   "cell_type": "markdown",
   "id": "b8f0e9dc",
   "metadata": {},
   "source": [
    "### Split the data into training and testing sets for each class"
   ]
  },
  {
   "cell_type": "code",
   "execution_count": 11,
   "id": "76728ef8",
   "metadata": {
    "scrolled": false
   },
   "outputs": [
    {
     "name": "stdout",
     "output_type": "stream",
     "text": [
      "Found 3372 images belonging to 4 classes.\n",
      "Found 845 images belonging to 4 classes.\n"
     ]
    }
   ],
   "source": [
    "from sklearn.model_selection import train_test_split\n",
    "from tensorflow.keras.preprocessing.image import ImageDataGenerator\n",
    "\n",
    "# Path to your data\n",
    "data_path = \"C:\\\\Users\\\\Shaurya\\\\Desktop\\\\RetinaXpert\\\\dataset\"\n",
    "\n",
    "# Get the list of classes (subdirectories)\n",
    "class_names = os.listdir(data_path)\n",
    "\n",
    "# Create directories for the train and test sets\n",
    "train_path = 'C:/Users/Shaurya/Desktop/RetinaXpert/train'\n",
    "test_path = 'C:/Users/Shaurya/Desktop/RetinaXpert/test'\n",
    "\n",
    "os.makedirs(train_path, exist_ok=True)\n",
    "os.makedirs(test_path, exist_ok=True)\n",
    "\n",
    "for class_name in class_names:\n",
    "    class_path = os.path.join(data_path, class_name)\n",
    "    train_class_path = os.path.join(train_path, class_name)\n",
    "    test_class_path = os.path.join(test_path, class_name)\n",
    "\n",
    "    os.makedirs(train_class_path, exist_ok=True)\n",
    "    os.makedirs(test_class_path, exist_ok=True)\n",
    "\n",
    "    class_files = os.listdir(class_path)\n",
    "    train_files, test_files = train_test_split(class_files, test_size=0.2, random_state=42)\n",
    "\n",
    "    for file in train_files:\n",
    "        os.replace(os.path.join(class_path, file), os.path.join(train_class_path, file))\n",
    "\n",
    "    for file in test_files:\n",
    "        os.replace(os.path.join(class_path, file), os.path.join(test_class_path, file))\n",
    "\n",
    "# Assuming you have an input_shape defined for your data\n",
    "input_shape = (224, 224, 3)\n",
    "\n",
    "# Data generators for training and testing\n",
    "train_datagen = ImageDataGenerator(rescale=1./255,\n",
    "                                   shear_range=0.2,\n",
    "                                   zoom_range=0.2,\n",
    "                                   horizontal_flip=True)\n",
    "\n",
    "test_datagen = ImageDataGenerator(rescale=1./255)\n",
    "\n",
    "batch_size = 32\n",
    "\n",
    "# Load the data using flow_from_directory\n",
    "train_set = train_datagen.flow_from_directory(train_path,\n",
    "                                             target_size=input_shape[:2],\n",
    "                                             batch_size=batch_size,\n",
    "                                             class_mode='categorical')\n",
    "\n",
    "test_set = test_datagen.flow_from_directory(test_path,\n",
    "                                           target_size=input_shape[:2],\n",
    "                                           batch_size=batch_size,\n",
    "                                           class_mode='categorical')"
   ]
  },
  {
   "cell_type": "markdown",
   "id": "f04866ab",
   "metadata": {},
   "source": [
    "### Generating the VGG16 model"
   ]
  },
  {
   "cell_type": "code",
   "execution_count": 13,
   "id": "4084cde1",
   "metadata": {},
   "outputs": [
    {
     "name": "stdout",
     "output_type": "stream",
     "text": [
      "Downloading data from https://storage.googleapis.com/tensorflow/keras-applications/vgg16/vgg16_weights_tf_dim_ordering_tf_kernels_notop.h5\n",
      "58889256/58889256 [==============================] - 7s 0us/step\n",
      "Model: \"custom_vgg16_model\"\n",
      "_________________________________________________________________\n",
      " Layer (type)                Output Shape              Param #   \n",
      "=================================================================\n",
      " vgg16 (Functional)          (None, 7, 7, 512)         14714688  \n",
      "                                                                 \n",
      " flatten (Flatten)           (None, 25088)             0         \n",
      "                                                                 \n",
      " dense (Dense)               (None, 512)               12845568  \n",
      "                                                                 \n",
      " dense_1 (Dense)             (None, 256)               131328    \n",
      "                                                                 \n",
      " dense_2 (Dense)             (None, 128)               32896     \n",
      "                                                                 \n",
      " dense_3 (Dense)             (None, 64)                8256      \n",
      "                                                                 \n",
      " dense_4 (Dense)             (None, 4)                 260       \n",
      "                                                                 \n",
      "=================================================================\n",
      "Total params: 27732996 (105.79 MB)\n",
      "Trainable params: 13018308 (49.66 MB)\n",
      "Non-trainable params: 14714688 (56.13 MB)\n",
      "_________________________________________________________________\n",
      "Epoch 1/10\n",
      "105/105 [==============================] - 663s 6s/step - loss: 0.9779 - categorical_accuracy: 0.6135 - precision: 0.6776 - recall: 0.5216 - val_loss: 0.5589 - val_categorical_accuracy: 0.7812 - val_precision: 0.8207 - val_recall: 0.7428\n",
      "Epoch 2/10\n",
      "105/105 [==============================] - 693s 7s/step - loss: 0.5413 - categorical_accuracy: 0.7814 - precision: 0.8184 - recall: 0.7461 - val_loss: 0.6375 - val_categorical_accuracy: 0.7620 - val_precision: 0.7736 - val_recall: 0.7476\n",
      "Epoch 3/10\n",
      "105/105 [==============================] - 661s 6s/step - loss: 0.4657 - categorical_accuracy: 0.8084 - precision: 0.8369 - recall: 0.7802 - val_loss: 0.5369 - val_categorical_accuracy: 0.7740 - val_precision: 0.8028 - val_recall: 0.7536\n",
      "Epoch 4/10\n",
      "105/105 [==============================] - 687s 7s/step - loss: 0.4527 - categorical_accuracy: 0.8240 - precision: 0.8448 - recall: 0.7967 - val_loss: 0.4310 - val_categorical_accuracy: 0.8425 - val_precision: 0.8619 - val_recall: 0.8173\n",
      "Epoch 5/10\n",
      "105/105 [==============================] - 666s 6s/step - loss: 0.4404 - categorical_accuracy: 0.8263 - precision: 0.8555 - recall: 0.8012 - val_loss: 0.4043 - val_categorical_accuracy: 0.8377 - val_precision: 0.8602 - val_recall: 0.8137\n",
      "Epoch 6/10\n",
      "105/105 [==============================] - 659s 6s/step - loss: 0.4237 - categorical_accuracy: 0.8365 - precision: 0.8542 - recall: 0.8120 - val_loss: 0.4779 - val_categorical_accuracy: 0.8077 - val_precision: 0.8249 - val_recall: 0.7873\n",
      "Epoch 7/10\n",
      "105/105 [==============================] - 682s 6s/step - loss: 0.4095 - categorical_accuracy: 0.8473 - precision: 0.8642 - recall: 0.8290 - val_loss: 0.5292 - val_categorical_accuracy: 0.8125 - val_precision: 0.8374 - val_recall: 0.7800\n",
      "Epoch 8/10\n",
      "105/105 [==============================] - 665s 6s/step - loss: 0.3740 - categorical_accuracy: 0.8539 - precision: 0.8702 - recall: 0.8353 - val_loss: 0.5084 - val_categorical_accuracy: 0.8089 - val_precision: 0.8218 - val_recall: 0.7873\n",
      "Epoch 9/10\n",
      "105/105 [==============================] - 605s 6s/step - loss: 0.3448 - categorical_accuracy: 0.8662 - precision: 0.8844 - recall: 0.8500 - val_loss: 0.3524 - val_categorical_accuracy: 0.8702 - val_precision: 0.8834 - val_recall: 0.8558\n",
      "Epoch 10/10\n",
      "105/105 [==============================] - 563s 5s/step - loss: 0.3770 - categorical_accuracy: 0.8488 - precision: 0.8667 - recall: 0.8314 - val_loss: 0.4112 - val_categorical_accuracy: 0.8498 - val_precision: 0.8600 - val_recall: 0.8269\n"
     ]
    }
   ],
   "source": [
    "vgg16_model = generate_vgg16_model(input_shape=input_shape, num_classes=num_classes, name='custom_vgg16_model')\n",
    "\n",
    "# Generating callbacks for the model\n",
    "callbacks = generate_callbacks(vgg16_model)\n",
    "\n",
    "# Displaying the VGG16 model summary\n",
    "vgg16_model.summary()\n",
    "\n",
    "# Set the number of epochs\n",
    "epochs = 10\n",
    "\n",
    "# Train the VGG16 model\n",
    "history_vgg16 = vgg16_model.fit(train_set,\n",
    "                                epochs=epochs,\n",
    "                                steps_per_epoch=train_set.n // batch_size,\n",
    "                                validation_data=test_set,\n",
    "                                validation_steps=test_set.n // batch_size,\n",
    "                                callbacks=callbacks)"
   ]
  },
  {
   "cell_type": "markdown",
   "id": "117c4dfe",
   "metadata": {},
   "source": [
    "### Plot the training history"
   ]
  },
  {
   "cell_type": "code",
   "execution_count": 14,
   "id": "c4229262",
   "metadata": {},
   "outputs": [
    {
     "data": {
      "image/png": "[encoded data removed]",
      "text/plain": [
       "<Figure size 1200x400 with 2 Axes>"
      ]
     },
     "metadata": {},
     "output_type": "display_data"
    }
   ],
   "source": [
    "def plot_history(history):\n",
    "    plt.figure(figsize=(12, 4))\n",
    "\n",
    "    # Plot training & validation accuracy values\n",
    "    plt.subplot(1, 2, 1)\n",
    "    plt.plot(history.history['categorical_accuracy'])\n",
    "    plt.plot(history.history['val_categorical_accuracy'])\n",
    "    plt.title('VGG16 Model Accuracy')\n",
    "    plt.xlabel('Epoch')\n",
    "    plt.ylabel('Accuracy')\n",
    "    plt.legend(['Train', 'Validation'], loc='upper left')\n",
    "\n",
    "    # Plot training & validation loss values\n",
    "    plt.subplot(1, 2, 2)\n",
    "    plt.plot(history.history['loss'])\n",
    "    plt.plot(history.history['val_loss'])\n",
    "    plt.title('VGG16 Model Loss')\n",
    "    plt.xlabel('Epoch')\n",
    "    plt.ylabel('Loss')\n",
    "    plt.legend(['Train', 'Validation'], loc='upper left')\n",
    "\n",
    "    plt.tight_layout()\n",
    "    plt.show()\n",
    "\n",
    "plot_history(history_vgg16)"
   ]
  },
  {
   "cell_type": "markdown",
   "id": "e74e0945",
   "metadata": {},
   "source": [
    "### Evaluate the VGG16 model on the test set"
   ]
  },
  {
   "cell_type": "code",
   "execution_count": 15,
   "id": "95b4cb96",
   "metadata": {
    "scrolled": true
   },
   "outputs": [
    {
     "name": "stdout",
     "output_type": "stream",
     "text": [
      "26/26 [==============================] - 78s 3s/step - loss: 0.4147 - categorical_accuracy: 0.8474 - precision: 0.8575 - recall: 0.8245\n",
      "\n",
      "Evaluation Results for VGG16 Model:\n",
      "Test Loss: 0.4147\n",
      "Test Accuracy: 84.74%\n"
     ]
    }
   ],
   "source": [
    "evaluation_vgg16 = vgg16_model.evaluate(test_set, steps=test_set.n // batch_size)\n",
    "\n",
    "# Print the evaluation results\n",
    "print(\"\\nEvaluation Results for VGG16 Model:\")\n",
    "print(f\"Test Loss: {evaluation_vgg16[0]:.4f}\")\n",
    "print(f\"Test Accuracy: {evaluation_vgg16[1]*100:.2f}%\")"
   ]
  },
  {
   "cell_type": "markdown",
   "id": "a51f592a",
   "metadata": {},
   "source": [
    "### One-hot Encoding"
   ]
  },
  {
   "cell_type": "code",
   "execution_count": 24,
   "id": "cdf31fa7",
   "metadata": {},
   "outputs": [],
   "source": [
    "y_true = np.argmax(test_set.classes)\n",
    "y_pred = np.argmax(predictions_vgg16, axis=1)"
   ]
  },
  {
   "cell_type": "markdown",
   "id": "546cefe9",
   "metadata": {},
   "source": [
    "### Generating Confusion Matrix"
   ]
  },
  {
   "cell_type": "code",
   "execution_count": 27,
   "id": "e7aa38a8",
   "metadata": {},
   "outputs": [
    {
     "name": "stdout",
     "output_type": "stream",
     "text": [
      "27/27 [==============================] - 83s 3s/step\n"
     ]
    },
    {
     "data": {
      "image/png": "[encoded data removed]",
      "text/plain": [
       "<Figure size 800x600 with 2 Axes>"
      ]
     },
     "metadata": {},
     "output_type": "display_data"
    }
   ],
   "source": [
    "from sklearn.metrics import confusion_matrix\n",
    "import matplotlib.pyplot as plt\n",
    "import numpy as np\n",
    "\n",
    "# Assuming test_set.classes is one-dimensional\n",
    "y_true = test_set.classes\n",
    "\n",
    "# Assuming predictions_vgg16 is the predicted probabilities from the VGG16 model\n",
    "predictions_vgg16 = vgg16_model.predict(test_set, steps=np.ceil(test_set.n / batch_size))\n",
    "y_pred = np.argmax(predictions_vgg16, axis=1)\n",
    "\n",
    "# Generate and plot the confusion matrix for VGG16 model\n",
    "cm_vgg16 = confusion_matrix(y_true, y_pred)\n",
    "\n",
    "# Display the confusion matrix\n",
    "plt.figure(figsize=(8, 6))\n",
    "plt.imshow(cm_vgg16, interpolation='nearest', cmap=plt.cm.Blues)\n",
    "plt.title('Confusion Matrix for VGG16 Model')\n",
    "plt.colorbar()\n",
    "plt.xlabel('Predicted Labels')\n",
    "plt.ylabel('True Labels')\n",
    "plt.show()\n"
   ]
  },
  {
   "cell_type": "markdown",
   "id": "c47a6ca5",
   "metadata": {},
   "source": [
    "### Generating Classification Report"
   ]
  },
  {
   "cell_type": "code",
   "execution_count": 30,
   "id": "5338e045",
   "metadata": {},
   "outputs": [
    {
     "name": "stdout",
     "output_type": "stream",
     "text": [
      "Classification Report for VGG16 Model:\n",
      "                      precision    recall  f1-score   support\n",
      "\n",
      "            cataract       0.23      0.25      0.24       208\n",
      "diabetic_retinopathy       0.25      0.25      0.25       220\n",
      "            glaucoma       0.29      0.20      0.23       202\n",
      "              normal       0.23      0.28      0.25       215\n",
      "\n",
      "            accuracy                           0.24       845\n",
      "           macro avg       0.25      0.24      0.24       845\n",
      "        weighted avg       0.25      0.24      0.24       845\n",
      "\n"
     ]
    }
   ],
   "source": [
    "from sklearn.metrics import classification_report\n",
    "\n",
    "# Generate and print the classification report for VGG16 model\n",
    "class_labels_vgg16 = list(test_set.class_indices.keys())\n",
    "print(\"Classification Report for VGG16 Model:\")\n",
    "print(classification_report(y_true, y_pred, target_names=class_labels_vgg16))"
   ]
  },
  {
   "cell_type": "code",
   "execution_count": null,
   "id": "8475dce1",
   "metadata": {},
   "outputs": [],
   "source": []
  }
 ],
 "metadata": {
  "kernelspec": {
   "display_name": "Python 3 (ipykernel)",
   "language": "python",
   "name": "python3"
  },
  "language_info": {
   "codemirror_mode": {
    "name": "ipython",
    "version": 3
   },
   "file_extension": ".py",
   "mimetype": "text/x-python",
   "name": "python",
   "nbconvert_exporter": "python",
   "pygments_lexer": "ipython3",
   "version": "3.11.5"
  }
 },
 "nbformat": 4,
 "nbformat_minor": 5
}
