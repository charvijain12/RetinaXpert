{
 "cells": [
  {
   "cell_type": "markdown",
   "id": "1f8ec38c",
   "metadata": {},
   "source": [
    "# ResNet50 Model for EDP \n",
    "\n",
    "### Authors - Charvi Jain and Shaurya Singh Srinet"
   ]
  },
  {
   "cell_type": "markdown",
   "id": "770b7026",
   "metadata": {},
   "source": [
    "### Importing required libraries"
   ]
  },
  {
   "cell_type": "code",
   "execution_count": 1,
   "id": "67142d68",
   "metadata": {
    "scrolled": true
   },
   "outputs": [
    {
     "name": "stderr",
     "output_type": "stream",
     "text": [
      "C:\\Users\\Charvi Jain\\anaconda3\\Lib\\site-packages\\tensorflow_addons\\utils\\tfa_eol_msg.py:23: UserWarning: \n",
      "\n",
      "TensorFlow Addons (TFA) has ended development and introduction of new features.\n",
      "TFA has entered a minimal maintenance and release mode until a planned end of life in May 2024.\n",
      "Please modify downstream libraries to take dependencies from other repositories in our TensorFlow community (e.g. Keras, Keras-CV, and Keras-NLP). \n",
      "\n",
      "For more information see: https://github.com/tensorflow/addons/issues/2807 \n",
      "\n",
      "  warnings.warn(\n"
     ]
    }
   ],
   "source": [
    "import numpy as np\n",
    "import pandas as pd\n",
    "import os\n",
    "import matplotlib.pyplot as plt\n",
    "import os, gdown, cv2, shutil, math\n",
    "from glob import glob\n",
    "from sklearn.model_selection import train_test_split, KFold\n",
    "from tqdm import tqdm\n",
    "from keras.layers import *\n",
    "from keras.models import Model, load_model, Sequential\n",
    "from keras.preprocessing.image import ImageDataGenerator\n",
    "from keras.callbacks import EarlyStopping, ModelCheckpoint\n",
    "from tensorflow_addons.metrics import F1Score\n",
    "from sklearn.metrics import confusion_matrix"
   ]
  },
  {
   "cell_type": "markdown",
   "id": "50d7d251",
   "metadata": {},
   "source": [
    "### Loading the dataset"
   ]
  },
  {
   "cell_type": "code",
   "execution_count": 24,
   "id": "179a3241",
   "metadata": {},
   "outputs": [
    {
     "name": "stdout",
     "output_type": "stream",
     "text": [
      "Dataset Accessed from Local Machine\n",
      "Dataset Accessed from Local Machine\n",
      "Dataset Accessed from Local Machine\n",
      "Dataset Accessed from Local Machine\n",
      "Dataset Accessed from Local Machine\n"
     ]
    }
   ],
   "source": [
    "input_directory = r\"C:\\Users\\Charvi Jain\\Downloads\\dataset\"\n",
    "\n",
    "for dirname, _, filenames in os.walk(input_directory):\n",
    "        print(\"Dataset Accessed from Local Machine\")\n"
   ]
  },
  {
   "cell_type": "markdown",
   "id": "f325ffc3",
   "metadata": {},
   "source": [
    "### Data Distribution and visualization"
   ]
  },
  {
   "cell_type": "code",
   "execution_count": 3,
   "id": "3e1dd29f",
   "metadata": {},
   "outputs": [
    {
     "data": {
      "image/png": "[encoded data removed]",
      "text/plain": [
       "<Figure size 800x600 with 1 Axes>"
      ]
     },
     "metadata": {},
     "output_type": "display_data"
    }
   ],
   "source": [
    "import matplotlib.pyplot as plt\n",
    "class_names = [\"glaucoma\", \"cataract\", \"normal\", \"diabetic_retinopathy\"]\n",
    "# Count for each class\n",
    "count_for_class_0 = 1007\n",
    "count_for_class_1 = 1038\n",
    "count_for_class_2 = 1074\n",
    "count_for_class_3 = 1098\n",
    "\n",
    "# Creating a list with the counts\n",
    "class_counts = [count_for_class_0, count_for_class_1, count_for_class_2, count_for_class_3]\n",
    "\n",
    "# Defining colors for the bar graph\n",
    "colors = ['lightcoral', 'lightgrey', 'plum', 'lightsteelblue']\n",
    "\n",
    "# Creating a bar graph\n",
    "plt.figure(figsize=(8, 6))\n",
    "plt.bar(class_names, class_counts, color=colors)\n",
    "\n",
    "# Adding labels and a title\n",
    "plt.xlabel(\"Class\")\n",
    "plt.ylabel(\"Count\")\n",
    "plt.title(\"Data Distribution\")\n",
    "plt.show()\n"
   ]
  },
  {
   "cell_type": "markdown",
   "id": "045459d7",
   "metadata": {},
   "source": [
    "### Making Dataframes"
   ]
  },
  {
   "cell_type": "code",
   "execution_count": 4,
   "id": "8ffbdabf",
   "metadata": {},
   "outputs": [
    {
     "name": "stderr",
     "output_type": "stream",
     "text": [
      "cataract               : 100%|\u001b[34m██████████████████████████████████████████\u001b[0m| 1038/1038 [00:29<00:00, 34.67file/s]\u001b[0m\n",
      "diabetic_retinopathy   : 100%|\u001b[34m██████████████████████████████████████████\u001b[0m| 1098/1098 [00:12<00:00, 88.78file/s]\u001b[0m\n",
      "glaucoma               : 100%|\u001b[34m██████████████████████████████████████████\u001b[0m| 1007/1007 [00:29<00:00, 33.90file/s]\u001b[0m\n",
      "normal                 : 100%|\u001b[34m██████████████████████████████████████████\u001b[0m| 1074/1074 [00:10<00:00, 99.78file/s]\u001b[0m\n"
     ]
    },
    {
     "name": "stdout",
     "output_type": "stream",
     "text": [
      "number of classes in processed dataset=  4\n",
      "the maximum files in any class in train_df is  878  the minimum files in any class in train_df is  806\n",
      "train_df length:  3373   test_df length:  422   valid_df length:  422\n",
      "average image height=  485   average image width=  518  aspect ratio h/w=  0.9362934362934363\n"
     ]
    }
   ],
   "source": [
    "sdir = r\"C:\\Users\\Charvi Jain\\Downloads\\dataset\"\n",
    "\n",
    "\n",
    "def make_dataframes(sdir):\n",
    "    bad_images = []\n",
    "    good_ext = ['jpg', 'jpeg', 'png', 'tiff']\n",
    "    filepaths = []\n",
    "    labels = []\n",
    "    classes = sorted(os.listdir(sdir))\n",
    "    for klass in classes:\n",
    "        classpath = os.path.join(sdir, klass)\n",
    "        flist = sorted(os.listdir(classpath))\n",
    "        desc = f'{klass:23s}'\n",
    "        for f in tqdm(flist, ncols=110, desc=desc, unit='file', colour='blue'):\n",
    "            fpath = os.path.join(classpath, f)\n",
    "            fl = f.lower()\n",
    "            index = fl.rfind('.')\n",
    "            ext = fl[index + 1:]\n",
    "            if ext in good_ext:\n",
    "                try:\n",
    "                    img = cv2.imread(fpath)\n",
    "                    shape = img.shape\n",
    "                    filepaths.append(fpath)\n",
    "                    labels.append(klass)\n",
    "                except:\n",
    "                    bad_images.append(fpath)\n",
    "                    print('defective image file: ', fpath)\n",
    "            else:\n",
    "                bad_images.append(fpath)\n",
    "    Fseries = pd.Series(filepaths, name='filepaths')\n",
    "    Lseries = pd.Series(labels, name='labels')\n",
    "    df = pd.concat([Fseries, Lseries], axis=1)\n",
    "\n",
    "    train_df, dummy_df = train_test_split(df, train_size=.8, shuffle=True, random_state=123, stratify=df['labels'])\n",
    "    valid_df, test_df = train_test_split(dummy_df, train_size=.5, shuffle=True, random_state=123,\n",
    "                                         stratify=dummy_df['labels'])\n",
    "    classes = sorted(train_df['labels'].unique())\n",
    "    class_count = len(classes)\n",
    "    sample_df = train_df.sample(n=50, replace=False)\n",
    "\n",
    "    ht = 0\n",
    "    wt = 0\n",
    "    count = 0\n",
    "    for i in range(len(sample_df)):\n",
    "        fpath = sample_df['filepaths'].iloc[i]\n",
    "        try:\n",
    "            img = cv2.imread(fpath)\n",
    "            h = img.shape[0]\n",
    "            w = img.shape[1]\n",
    "            wt += w\n",
    "            ht += h\n",
    "            count += 1\n",
    "        except:\n",
    "            pass\n",
    "    have = int(ht / count)\n",
    "    wave = int(wt / count)\n",
    "    aspect_ratio = have / wave\n",
    "    print('number of classes in processed dataset= ', class_count)\n",
    "    counts = list(train_df['labels'].value_counts())\n",
    "    print('the maximum files in any class in train_df is ', max(counts),\n",
    "          ' the minimum files in any class in train_df is ', min(counts))\n",
    "    print('train_df length: ', len(train_df), '  test_df length: ', len(test_df), '  valid_df length: ', len(valid_df))\n",
    "    print('average image height= ', have, '  average image width= ', wave, ' aspect ratio h/w= ', aspect_ratio)\n",
    "    return train_df, test_df, valid_df\n",
    "\n",
    "\n",
    "train_df, test_df, valid_df = make_dataframes(sdir=sdir)"
   ]
  },
  {
   "cell_type": "markdown",
   "id": "cfdd32ec",
   "metadata": {},
   "source": [
    "### Defining ImageDataGenerator"
   ]
  },
  {
   "cell_type": "code",
   "execution_count": 5,
   "id": "60424f54",
   "metadata": {},
   "outputs": [
    {
     "name": "stdout",
     "output_type": "stream",
     "text": [
      "Found 3373 validated image filenames belonging to 4 classes.\n",
      "Found 422 validated image filenames belonging to 4 classes.\n",
      "Found 422 validated image filenames belonging to 4 classes.\n"
     ]
    }
   ],
   "source": [
    "batch_size = 64\n",
    "img_height, img_width = 300, 300\n",
    "img_size = (img_height, img_width)\n",
    "input_shape = (img_height, img_width, 3)\n",
    "\n",
    "def create_data(batch_size, train_df, test_df, valid_df, img_size):\n",
    "    train_gen = ImageDataGenerator(rescale=1/255.0, rotation_range=20, vertical_flip=True, shear_range=0.2, dtype=float)\n",
    "    test_gen = ImageDataGenerator(rescale=1/255.0, dtype=float)\n",
    "    \n",
    "    train_set = train_gen.flow_from_dataframe(train_df, x_col='filepaths', y_col='labels', target_size=img_size, class_mode='categorical', batch_size=batch_size)\n",
    "    test_set = test_gen.flow_from_dataframe(test_df, x_col='filepaths', y_col='labels', target_size=img_size, class_mode='categorical', batch_size=batch_size)\n",
    "    val_set = test_gen.flow_from_dataframe(valid_df, x_col='filepaths', y_col='labels', target_size=img_size, class_mode='categorical', batch_size=batch_size)\n",
    "    \n",
    "    return train_set, test_set, val_set\n",
    "\n",
    "\n",
    "train_set, test_set, val_set = create_data(batch_size, train_df, test_df, valid_df, img_size)"
   ]
  },
  {
   "cell_type": "markdown",
   "id": "4a964776",
   "metadata": {},
   "source": [
    "### Label Mapping"
   ]
  },
  {
   "cell_type": "code",
   "execution_count": 6,
   "id": "a2fb1dd5",
   "metadata": {},
   "outputs": [
    {
     "data": {
      "text/plain": [
       "{0: 'cataract', 1: 'diabetic_retinopathy', 2: 'glaucoma', 3: 'normal'}"
      ]
     },
     "execution_count": 6,
     "metadata": {},
     "output_type": "execute_result"
    }
   ],
   "source": [
    "label_dict = {v:k for k,v in train_set.class_indices.items()}\n",
    "label_dict"
   ]
  },
  {
   "cell_type": "markdown",
   "id": "a3cceddd",
   "metadata": {},
   "source": [
    "### Generating Model"
   ]
  },
  {
   "cell_type": "code",
   "execution_count": 7,
   "id": "90844557",
   "metadata": {},
   "outputs": [],
   "source": [
    "def generate_model(pretrained_base,name=None):\n",
    "\n",
    "    pretrained_base.trainable=False\n",
    "    model = Sequential([\n",
    "        pretrained_base,\n",
    "        Flatten(),\n",
    "        Dense(units=512, activation='relu'),\n",
    "        Dense(units=256, activation='relu'),\n",
    "        Dense(units=128, activation='relu'),\n",
    "        Dense(units=64, activation='relu'),\n",
    "        Dense(units=4, activation='softmax')\n",
    "    ], name=name)\n",
    "    model.compile(optimizer='adam', loss='categorical_crossentropy', metrics=['categorical_accuracy', F1Score(num_classes=4)])\n",
    "    \n",
    "    return model"
   ]
  },
  {
   "cell_type": "markdown",
   "id": "af824ce9",
   "metadata": {},
   "source": [
    "### Generating Callbacks"
   ]
  },
  {
   "cell_type": "code",
   "execution_count": 8,
   "id": "ff772086",
   "metadata": {},
   "outputs": [],
   "source": [
    "def generate_callbacks(ResNet50):\n",
    "    checkpoint = ModelCheckpoint(filepath=f'ResNet50.h5', save_best_only=True, save_weights_only=True)\n",
    "    return [checkpoint]\n"
   ]
  },
  {
   "cell_type": "markdown",
   "id": "6006afa0",
   "metadata": {},
   "source": [
    "### Loading ResNet50 model"
   ]
  },
  {
   "cell_type": "code",
   "execution_count": 9,
   "id": "ae25df8d",
   "metadata": {},
   "outputs": [],
   "source": [
    "import tensorflow as tf\n",
    "pretrained_params = {\n",
    "    'weights':'imagenet',\n",
    "    'include_top':False,\n",
    "    'input_shape':input_shape\n",
    "}\n",
    "\n",
    "\n",
    "pretrained_models = {\n",
    "    'ResNet50':tf.keras.applications.ResNet50(**pretrained_params)\n",
    "}\n",
    "\n",
    "\n",
    "fit_args = {\n",
    "    'epochs':10,\n",
    "    'steps_per_epoch':train_set.n//train_set.batch_size,\n",
    "    'validation_data':val_set,\n",
    "    'validation_steps':val_set.n//val_set.batch_size\n",
    "}"
   ]
  },
  {
   "cell_type": "code",
   "execution_count": 10,
   "id": "b389ad7c",
   "metadata": {},
   "outputs": [
    {
     "name": "stdout",
     "output_type": "stream",
     "text": [
      "Epoch 1/10\n",
      "52/52 [==============================] - 793s 15s/step - loss: 7.3676 - categorical_accuracy: 0.2596 - f1_score: 0.2583 - val_loss: 2.4038 - val_categorical_accuracy: 0.2786 - val_f1_score: 0.1318\n",
      "Epoch 2/10\n",
      "52/52 [==============================] - 768s 15s/step - loss: 1.7772 - categorical_accuracy: 0.3620 - f1_score: 0.3610 - val_loss: 1.6111 - val_categorical_accuracy: 0.3724 - val_f1_score: 0.2976\n",
      "Epoch 3/10\n",
      "52/52 [==============================] - 595s 11s/step - loss: 1.2219 - categorical_accuracy: 0.4651 - f1_score: 0.4611 - val_loss: 1.5328 - val_categorical_accuracy: 0.3281 - val_f1_score: 0.2382\n",
      "Epoch 4/10\n",
      "52/52 [==============================] - 668s 13s/step - loss: 1.2932 - categorical_accuracy: 0.4476 - f1_score: 0.4400 - val_loss: 0.9563 - val_categorical_accuracy: 0.5885 - val_f1_score: 0.5738\n",
      "Epoch 5/10\n",
      "52/52 [==============================] - 648s 12s/step - loss: 1.1744 - categorical_accuracy: 0.5086 - f1_score: 0.5031 - val_loss: 1.4936 - val_categorical_accuracy: 0.4948 - val_f1_score: 0.4216\n",
      "Epoch 6/10\n",
      "52/52 [==============================] - 538s 10s/step - loss: 1.1240 - categorical_accuracy: 0.5280 - f1_score: 0.5236 - val_loss: 0.9434 - val_categorical_accuracy: 0.5911 - val_f1_score: 0.5910\n",
      "Epoch 7/10\n",
      "52/52 [==============================] - 577s 11s/step - loss: 1.0345 - categorical_accuracy: 0.5334 - f1_score: 0.5230 - val_loss: 0.8596 - val_categorical_accuracy: 0.6328 - val_f1_score: 0.6170\n",
      "Epoch 8/10\n",
      "52/52 [==============================] - 620s 12s/step - loss: 1.0443 - categorical_accuracy: 0.5382 - f1_score: 0.5309 - val_loss: 0.8625 - val_categorical_accuracy: 0.5964 - val_f1_score: 0.5372\n",
      "Epoch 9/10\n",
      "52/52 [==============================] - 683s 13s/step - loss: 0.9146 - categorical_accuracy: 0.5905 - f1_score: 0.5815 - val_loss: 0.8089 - val_categorical_accuracy: 0.6667 - val_f1_score: 0.6536\n",
      "Epoch 10/10\n",
      "52/52 [==============================] - 1420s 27s/step - loss: 0.9218 - categorical_accuracy: 0.5905 - f1_score: 0.5831 - val_loss: 0.9663 - val_categorical_accuracy: 0.5990 - val_f1_score: 0.5048\n"
     ]
    },
    {
     "name": "stderr",
     "output_type": "stream",
     "text": [
      "C:\\Users\\Charvi Jain\\anaconda3\\Lib\\site-packages\\keras\\src\\engine\\training.py:3079: UserWarning: You are saving your model as an HDF5 file via `model.save()`. This file format is considered legacy. We recommend using instead the native Keras format, e.g. `model.save('my_model.keras')`.\n",
      "  saving_api.save_model(\n"
     ]
    }
   ],
   "source": [
    "ResNet50_model = generate_model(pretrained_models['ResNet50'], name='ResNet50')\n",
    "callbacks = generate_callbacks('ResNet50')\n",
    "history = ResNet50_model.fit(train_set, callbacks=callbacks, **fit_args)\n",
    "ResNet50_model.save('ResNet50.h5')"
   ]
  },
  {
   "cell_type": "code",
   "execution_count": 13,
   "id": "8e903c20",
   "metadata": {},
   "outputs": [],
   "source": [
    "resnet = load_model('ResNet50.h5')"
   ]
  },
  {
   "cell_type": "code",
   "execution_count": 14,
   "id": "7e417c12",
   "metadata": {},
   "outputs": [],
   "source": [
    "inputs = Input(shape=input_shape)\n",
    "resnet_preds = resnet(inputs)"
   ]
  },
  {
   "cell_type": "code",
   "execution_count": 15,
   "id": "5669171e",
   "metadata": {},
   "outputs": [],
   "source": [
    "# Averaging for ResNet predictions\n",
    "outputs = resnet_preds"
   ]
  },
  {
   "cell_type": "markdown",
   "id": "9c5974ae",
   "metadata": {},
   "source": [
    "### Model Evaluation "
   ]
  },
  {
   "cell_type": "code",
   "execution_count": 19,
   "id": "711a5bd4",
   "metadata": {},
   "outputs": [
    {
     "data": {
      "image/png": "[encoded data removed]",
      "text/plain": [
       "<Figure size 1200x600 with 2 Axes>"
      ]
     },
     "metadata": {},
     "output_type": "display_data"
    }
   ],
   "source": [
    "plt.figure(figsize=(12, 6))\n",
    "plt.subplot(1, 2, 1)\n",
    "plt.plot(history.history['categorical_accuracy'])\n",
    "plt.plot(history.history['val_categorical_accuracy'])\n",
    "plt.title('Model Accuracy')\n",
    "plt.xlabel('Epoch')\n",
    "plt.ylabel('Accuracy')\n",
    "plt.legend(['Train', 'Validation'], loc='upper left')\n",
    "\n",
    "\n",
    "plt.subplot(1, 2, 2)\n",
    "plt.plot(history.history['loss'])\n",
    "plt.plot(history.history['val_loss'])\n",
    "plt.title('Model Loss')\n",
    "plt.xlabel('Epoch')\n",
    "plt.ylabel('Loss')\n",
    "plt.legend(['Train', 'Validation'], loc='upper right')\n",
    "\n",
    "plt.tight_layout()\n",
    "plt.show()\n"
   ]
  },
  {
   "cell_type": "markdown",
   "id": "e4d02c6d",
   "metadata": {},
   "source": [
    "### Generating Classificarion report and confusion report"
   ]
  },
  {
   "cell_type": "code",
   "execution_count": 20,
   "id": "c3b052aa",
   "metadata": {},
   "outputs": [
    {
     "name": "stdout",
     "output_type": "stream",
     "text": [
      "7/7 [==============================] - 191s 26s/step\n",
      "Confusion Matrix:\n",
      "[[23 33  0 48]\n",
      " [33 34  0 43]\n",
      " [24 33  0 44]\n",
      " [16 32  0 59]]\n",
      "\n",
      "Classification Report:\n",
      "                      precision    recall  f1-score   support\n",
      "\n",
      "            glaucoma       0.24      0.22      0.23       104\n",
      "            cataract       0.26      0.31      0.28       110\n",
      "              normal       0.00      0.00      0.00       101\n",
      "diabetic_retinopathy       0.30      0.55      0.39       107\n",
      "\n",
      "            accuracy                           0.27       422\n",
      "           macro avg       0.20      0.27      0.23       422\n",
      "        weighted avg       0.20      0.27      0.23       422\n",
      "\n"
     ]
    },
    {
     "name": "stderr",
     "output_type": "stream",
     "text": [
      "C:\\Users\\Charvi Jain\\anaconda3\\Lib\\site-packages\\sklearn\\metrics\\_classification.py:1471: UndefinedMetricWarning: Precision and F-score are ill-defined and being set to 0.0 in labels with no predicted samples. Use `zero_division` parameter to control this behavior.\n",
      "  _warn_prf(average, modifier, msg_start, len(result))\n",
      "C:\\Users\\Charvi Jain\\anaconda3\\Lib\\site-packages\\sklearn\\metrics\\_classification.py:1471: UndefinedMetricWarning: Precision and F-score are ill-defined and being set to 0.0 in labels with no predicted samples. Use `zero_division` parameter to control this behavior.\n",
      "  _warn_prf(average, modifier, msg_start, len(result))\n",
      "C:\\Users\\Charvi Jain\\anaconda3\\Lib\\site-packages\\sklearn\\metrics\\_classification.py:1471: UndefinedMetricWarning: Precision and F-score are ill-defined and being set to 0.0 in labels with no predicted samples. Use `zero_division` parameter to control this behavior.\n",
      "  _warn_prf(average, modifier, msg_start, len(result))\n"
     ]
    }
   ],
   "source": [
    "from sklearn.metrics import confusion_matrix, classification_report\n",
    "\n",
    "test_predictions = resnet.predict(test_set)\n",
    "\n",
    "\n",
    "# Convert predictions to class labels\n",
    "test_pred_labels = np.argmax(test_predictions, axis=1)\n",
    "\n",
    "# Use the original labels from the generator\n",
    "test_true_labels = test_set.labels\n",
    "\n",
    "# If the true labels are not one-hot encoded, convert them\n",
    "if isinstance(test_true_labels[0], list):\n",
    "    test_true_labels = np.argmax(test_true_labels, axis=1)\n",
    "\n",
    "# Confusion Matrix\n",
    "conf_matrix = confusion_matrix(test_true_labels, test_pred_labels)\n",
    "print(\"Confusion Matrix:\")\n",
    "print(conf_matrix)\n",
    "\n",
    "# Classification Report\n",
    "class_report = classification_report(test_true_labels, test_pred_labels, target_names=class_names)\n",
    "print(\"\\nClassification Report:\")\n",
    "print(class_report)\n"
   ]
  },
  {
   "cell_type": "code",
   "execution_count": null,
   "id": "bc174e9c",
   "metadata": {},
   "outputs": [],
   "source": []
  }
 ],
 "metadata": {
  "kernelspec": {
   "display_name": "Python 3 (ipykernel)",
   "language": "python",
   "name": "python3"
  },
  "language_info": {
   "codemirror_mode": {
    "name": "ipython",
    "version": 3
   },
   "file_extension": ".py",
   "mimetype": "text/x-python",
   "name": "python",
   "nbconvert_exporter": "python",
   "pygments_lexer": "ipython3",
   "version": "3.11.5"
  }
 },
 "nbformat": 4,
 "nbformat_minor": 5
}
