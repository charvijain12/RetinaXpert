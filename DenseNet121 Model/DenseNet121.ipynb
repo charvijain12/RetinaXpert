{
 "cells": [
  {
   "cell_type": "markdown",
   "id": "bb6051ee",
   "metadata": {},
   "source": [
    "# DenseNet121 Model - EDP\n",
    "\n",
    "### Author - Shaurya Singh Srinet and Charvi Jain"
   ]
  },
  {
   "cell_type": "markdown",
   "id": "b0f57426",
   "metadata": {},
   "source": [
    "### Importing required libraries"
   ]
  },
  {
   "cell_type": "code",
   "execution_count": 1,
   "id": "67142d68",
   "metadata": {},
   "outputs": [
    {
     "name": "stderr",
     "output_type": "stream",
     "text": [
      "C:\\Users\\Charvi Jain\\anaconda3\\Lib\\site-packages\\tensorflow_addons\\utils\\tfa_eol_msg.py:23: UserWarning: \n",
      "\n",
      "TensorFlow Addons (TFA) has ended development and introduction of new features.\n",
      "TFA has entered a minimal maintenance and release mode until a planned end of life in May 2024.\n",
      "Please modify downstream libraries to take dependencies from other repositories in our TensorFlow community (e.g. Keras, Keras-CV, and Keras-NLP). \n",
      "\n",
      "For more information see: https://github.com/tensorflow/addons/issues/2807 \n",
      "\n",
      "  warnings.warn(\n"
     ]
    }
   ],
   "source": [
    "import numpy as np\n",
    "import pandas as pd\n",
    "import os\n",
    "import matplotlib.pyplot as plt\n",
    "import os, gdown, cv2, shutil, math\n",
    "from glob import glob\n",
    "from sklearn.model_selection import train_test_split, KFold\n",
    "from tqdm import tqdm\n",
    "from keras.layers import *\n",
    "from keras.models import Model, load_model, Sequential\n",
    "from keras.preprocessing.image import ImageDataGenerator\n",
    "from keras.callbacks import EarlyStopping, ModelCheckpoint\n",
    "from tensorflow_addons.metrics import F1Score\n",
    "from sklearn.metrics import confusion_matrix"
   ]
  },
  {
   "cell_type": "markdown",
   "id": "5cf84536",
   "metadata": {},
   "source": [
    "### Reading input data"
   ]
  },
  {
   "cell_type": "code",
   "execution_count": 2,
   "id": "ddd39f9c",
   "metadata": {},
   "outputs": [
    {
     "name": "stdout",
     "output_type": "stream",
     "text": [
      "Dataset Accessed from Local Machine\n",
      "Dataset Accessed from Local Machine\n",
      "Dataset Accessed from Local Machine\n",
      "Dataset Accessed from Local Machine\n",
      "Dataset Accessed from Local Machine\n"
     ]
    }
   ],
   "source": [
    "input_directory = r\"C:\\Users\\Charvi Jain\\Downloads\\dataset\"\n",
    "\n",
    "for dirname, _, filenames in os.walk(input_directory):\n",
    "        print(\"Dataset Accessed from Local Machine\")\n"
   ]
  },
  {
   "cell_type": "markdown",
   "id": "461d5f4f",
   "metadata": {},
   "source": [
    "### Data Distribution Graph"
   ]
  },
  {
   "cell_type": "code",
   "execution_count": 1,
   "id": "3e1dd29f",
   "metadata": {},
   "outputs": [
    {
     "data": {
      "image/png": "[encoded data removed]",
      "text/plain": [
       "<Figure size 800x600 with 1 Axes>"
      ]
     },
     "metadata": {},
     "output_type": "display_data"
    }
   ],
   "source": [
    "import matplotlib.pyplot as plt\n",
    "class_names = [\"glaucoma\", \"cataract\", \"normal\", \"diabetic_retinopathy\"]\n",
    "# Count for each class\n",
    "count_for_class_0 = 1007\n",
    "count_for_class_1 = 1038\n",
    "count_for_class_2 = 1074\n",
    "count_for_class_3 = 1098\n",
    "\n",
    "# Creating a list with the counts\n",
    "class_counts = [count_for_class_0, count_for_class_1, count_for_class_2, count_for_class_3]\n",
    "\n",
    "# Defining colors for the bar graph\n",
    "colors = ['royalblue', 'forestgreen', 'gold', 'tomato']\n",
    "\n",
    "# Creating a bar graph\n",
    "plt.figure(figsize=(8, 6))\n",
    "plt.bar(class_names, class_counts, color=colors)\n",
    "\n",
    "# Adding labels and a title\n",
    "plt.xlabel(\"Class\")\n",
    "plt.ylabel(\"Count\")\n",
    "plt.title(\"Data Distribution\")\n",
    "\n",
    "plt.show()\n"
   ]
  },
  {
   "cell_type": "markdown",
   "id": "9656b275",
   "metadata": {},
   "source": [
    "### Making Dataframes"
   ]
  },
  {
   "cell_type": "code",
   "execution_count": 4,
   "id": "8ffbdabf",
   "metadata": {},
   "outputs": [
    {
     "name": "stderr",
     "output_type": "stream",
     "text": [
      "cataract               : 100%|\u001b[34m██████████████████████████████████████████\u001b[0m| 1038/1038 [00:16<00:00, 63.32file/s]\u001b[0m\n",
      "diabetic_retinopathy   : 100%|\u001b[34m█████████████████████████████████████████\u001b[0m| 1098/1098 [00:06<00:00, 176.64file/s]\u001b[0m\n",
      "glaucoma               : 100%|\u001b[34m██████████████████████████████████████████\u001b[0m| 1007/1007 [00:17<00:00, 58.79file/s]\u001b[0m\n",
      "normal                 : 100%|\u001b[34m█████████████████████████████████████████\u001b[0m| 1074/1074 [00:06<00:00, 178.76file/s]\u001b[0m\n"
     ]
    },
    {
     "name": "stdout",
     "output_type": "stream",
     "text": [
      "number of classes in processed dataset=  4\n",
      "the maximum files in any class in train_df is  878  the minimum files in any class in train_df is  806\n",
      "train_df length:  3373   test_df length:  422   valid_df length:  422\n",
      "average image height=  502   average image width=  536  aspect ratio h/w=  0.9365671641791045\n"
     ]
    }
   ],
   "source": [
    "sdir = r\"C:\\Users\\Charvi Jain\\Downloads\\dataset\"\n",
    "\n",
    "\n",
    "def make_dataframes(sdir):\n",
    "    bad_images = []\n",
    "    good_ext = ['jpg', 'jpeg', 'png', 'tiff']\n",
    "    filepaths = []\n",
    "    labels = []\n",
    "    classes = sorted(os.listdir(sdir))\n",
    "    for klass in classes:\n",
    "        classpath = os.path.join(sdir, klass)\n",
    "        flist = sorted(os.listdir(classpath))\n",
    "        desc = f'{klass:23s}'\n",
    "        for f in tqdm(flist, ncols=110, desc=desc, unit='file', colour='blue'):\n",
    "            fpath = os.path.join(classpath, f)\n",
    "            fl = f.lower()\n",
    "            index = fl.rfind('.')\n",
    "            ext = fl[index + 1:]\n",
    "            if ext in good_ext:\n",
    "                try:\n",
    "                    img = cv2.imread(fpath)\n",
    "                    shape = img.shape\n",
    "                    filepaths.append(fpath)\n",
    "                    labels.append(klass)\n",
    "                except:\n",
    "                    bad_images.append(fpath)\n",
    "                    print('defective image file: ', fpath)\n",
    "            else:\n",
    "                bad_images.append(fpath)\n",
    "    Fseries = pd.Series(filepaths, name='filepaths')\n",
    "    Lseries = pd.Series(labels, name='labels')\n",
    "    df = pd.concat([Fseries, Lseries], axis=1)\n",
    "\n",
    "    train_df, dummy_df = train_test_split(df, train_size=.8, shuffle=True, random_state=123, stratify=df['labels'])\n",
    "    valid_df, test_df = train_test_split(dummy_df, train_size=.5, shuffle=True, random_state=123,\n",
    "                                         stratify=dummy_df['labels'])\n",
    "    classes = sorted(train_df['labels'].unique())\n",
    "    class_count = len(classes)\n",
    "    sample_df = train_df.sample(n=50, replace=False)\n",
    "\n",
    "    ht = 0\n",
    "    wt = 0\n",
    "    count = 0\n",
    "    for i in range(len(sample_df)):\n",
    "        fpath = sample_df['filepaths'].iloc[i]\n",
    "        try:\n",
    "            img = cv2.imread(fpath)\n",
    "            h = img.shape[0]\n",
    "            w = img.shape[1]\n",
    "            wt += w\n",
    "            ht += h\n",
    "            count += 1\n",
    "        except:\n",
    "            pass\n",
    "    have = int(ht / count)\n",
    "    wave = int(wt / count)\n",
    "    aspect_ratio = have / wave\n",
    "    print('number of classes in processed dataset= ', class_count)\n",
    "    counts = list(train_df['labels'].value_counts())\n",
    "    print('the maximum files in any class in train_df is ', max(counts),\n",
    "          ' the minimum files in any class in train_df is ', min(counts))\n",
    "    print('train_df length: ', len(train_df), '  test_df length: ', len(test_df), '  valid_df length: ', len(valid_df))\n",
    "    print('average image height= ', have, '  average image width= ', wave, ' aspect ratio h/w= ', aspect_ratio)\n",
    "    return train_df, test_df, valid_df\n",
    "\n",
    "\n",
    "train_df, test_df, valid_df = make_dataframes(sdir=sdir)"
   ]
  },
  {
   "cell_type": "markdown",
   "id": "489479b3",
   "metadata": {},
   "source": [
    "### Creating Data using ImageGenerator"
   ]
  },
  {
   "cell_type": "code",
   "execution_count": 5,
   "id": "60424f54",
   "metadata": {},
   "outputs": [
    {
     "name": "stdout",
     "output_type": "stream",
     "text": [
      "Found 3373 validated image filenames belonging to 4 classes.\n",
      "Found 422 validated image filenames belonging to 4 classes.\n",
      "Found 422 validated image filenames belonging to 4 classes.\n"
     ]
    }
   ],
   "source": [
    "batch_size = 64\n",
    "img_height, img_width = 300, 300\n",
    "img_size = (img_height, img_width)\n",
    "input_shape = (img_height, img_width, 3)\n",
    "\n",
    "def create_data(batch_size, train_df, test_df, valid_df, img_size):\n",
    "    train_gen = ImageDataGenerator(rescale=1/255.0, rotation_range=20, vertical_flip=True, shear_range=0.2, dtype=float)\n",
    "    test_gen = ImageDataGenerator(rescale=1/255.0, dtype=float)\n",
    "    \n",
    "    train_set = train_gen.flow_from_dataframe(train_df, x_col='filepaths', y_col='labels', target_size=img_size, class_mode='categorical', batch_size=batch_size)\n",
    "    test_set = test_gen.flow_from_dataframe(test_df, x_col='filepaths', y_col='labels', target_size=img_size, class_mode='categorical', batch_size=batch_size)\n",
    "    val_set = test_gen.flow_from_dataframe(valid_df, x_col='filepaths', y_col='labels', target_size=img_size, class_mode='categorical', batch_size=batch_size)\n",
    "    \n",
    "    return train_set, test_set, val_set\n",
    "\n",
    "\n",
    "train_set, test_set, val_set = create_data(batch_size, train_df, test_df, valid_df, img_size)"
   ]
  },
  {
   "cell_type": "markdown",
   "id": "8ecef1e9",
   "metadata": {},
   "source": [
    "### Label Mapping"
   ]
  },
  {
   "cell_type": "code",
   "execution_count": 6,
   "id": "a2fb1dd5",
   "metadata": {},
   "outputs": [
    {
     "data": {
      "text/plain": [
       "{0: 'cataract', 1: 'diabetic_retinopathy', 2: 'glaucoma', 3: 'normal'}"
      ]
     },
     "execution_count": 6,
     "metadata": {},
     "output_type": "execute_result"
    }
   ],
   "source": [
    "label_dict = {v:k for k,v in train_set.class_indices.items()}\n",
    "label_dict"
   ]
  },
  {
   "cell_type": "markdown",
   "id": "b861ddd6",
   "metadata": {},
   "source": [
    "### Initializing model generating and callback function"
   ]
  },
  {
   "cell_type": "code",
   "execution_count": 7,
   "id": "1c5a1e25",
   "metadata": {},
   "outputs": [],
   "source": [
    "def generate_model(pretrained_base,name=None):\n",
    "\n",
    "    pretrained_base.trainable=False\n",
    "    model = Sequential([\n",
    "        pretrained_base,\n",
    "        Flatten(),\n",
    "        Dense(units=512, activation='relu'),\n",
    "        Dense(units=256, activation='relu'),\n",
    "        Dense(units=128, activation='relu'),\n",
    "        Dense(units=64, activation='relu'),\n",
    "        Dense(units=4, activation='softmax')\n",
    "    ], name=name)\n",
    "    model.compile(optimizer='adam', loss='categorical_crossentropy', metrics=['categorical_accuracy', F1Score(num_classes=4)])\n",
    "    \n",
    "    return model"
   ]
  },
  {
   "cell_type": "code",
   "execution_count": 11,
   "id": "1c73797a",
   "metadata": {},
   "outputs": [],
   "source": [
    "def generate_callbacks(DenseNet121):\n",
    "    checkpoint = ModelCheckpoint(filepath=f'DenseNet121.h5', save_best_only=True, save_weights_only=True)\n",
    "    return [checkpoint]\n"
   ]
  },
  {
   "cell_type": "markdown",
   "id": "1b2fde3e",
   "metadata": {},
   "source": [
    "### Configuring a DenseNet121 model"
   ]
  },
  {
   "cell_type": "code",
   "execution_count": 12,
   "id": "6538331d",
   "metadata": {},
   "outputs": [],
   "source": [
    "import tensorflow as tf\n",
    "pretrained_params = {\n",
    "    'weights':'imagenet',\n",
    "    'include_top':False,\n",
    "    'input_shape':input_shape\n",
    "}\n",
    "\n",
    "\n",
    "pretrained_models = {\n",
    "    'DenseNet121':tf.keras.applications.DenseNet121(**pretrained_params)\n",
    "}\n",
    "\n",
    "\n",
    "fit_args = {\n",
    "    'epochs':10,\n",
    "    'steps_per_epoch':train_set.n//train_set.batch_size,\n",
    "    'validation_data':val_set,\n",
    "    'validation_steps':val_set.n//val_set.batch_size\n",
    "}"
   ]
  },
  {
   "cell_type": "code",
   "execution_count": 13,
   "id": "7fedeb5c",
   "metadata": {},
   "outputs": [
    {
     "name": "stdout",
     "output_type": "stream",
     "text": [
      "Epoch 1/10\n",
      "52/52 [==============================] - 535s 10s/step - loss: 3.7027 - categorical_accuracy: 0.5966 - f1_score: 0.5961 - val_loss: 0.3844 - val_categorical_accuracy: 0.8568 - val_f1_score: 0.8569\n",
      "Epoch 2/10\n",
      "52/52 [==============================] - 602s 12s/step - loss: 0.7426 - categorical_accuracy: 0.7903 - f1_score: 0.7876 - val_loss: 0.4926 - val_categorical_accuracy: 0.8464 - val_f1_score: 0.8431\n",
      "Epoch 3/10\n",
      "52/52 [==============================] - 696s 13s/step - loss: 0.3923 - categorical_accuracy: 0.8694 - f1_score: 0.8676 - val_loss: 0.3937 - val_categorical_accuracy: 0.8672 - val_f1_score: 0.8533\n",
      "Epoch 4/10\n",
      "52/52 [==============================] - 1088s 21s/step - loss: 0.3843 - categorical_accuracy: 0.8701 - f1_score: 0.8679 - val_loss: 0.2290 - val_categorical_accuracy: 0.9115 - val_f1_score: 0.9078\n",
      "Epoch 5/10\n",
      "52/52 [==============================] - 1528s 29s/step - loss: 0.2954 - categorical_accuracy: 0.8994 - f1_score: 0.8973 - val_loss: 0.3588 - val_categorical_accuracy: 0.8958 - val_f1_score: 0.8963\n",
      "Epoch 6/10\n",
      "52/52 [==============================] - 1280s 24s/step - loss: 0.2475 - categorical_accuracy: 0.9093 - f1_score: 0.9077 - val_loss: 0.3024 - val_categorical_accuracy: 0.8958 - val_f1_score: 0.8931\n",
      "Epoch 7/10\n",
      "52/52 [==============================] - 1178s 22s/step - loss: 0.2002 - categorical_accuracy: 0.9226 - f1_score: 0.9213 - val_loss: 0.1670 - val_categorical_accuracy: 0.9427 - val_f1_score: 0.9408\n",
      "Epoch 8/10\n",
      "52/52 [==============================] - 547s 11s/step - loss: 0.1961 - categorical_accuracy: 0.9220 - f1_score: 0.9204 - val_loss: 0.1829 - val_categorical_accuracy: 0.9297 - val_f1_score: 0.9280\n",
      "Epoch 9/10\n",
      "52/52 [==============================] - 466s 9s/step - loss: 0.1741 - categorical_accuracy: 0.9332 - f1_score: 0.9322 - val_loss: 0.2154 - val_categorical_accuracy: 0.9167 - val_f1_score: 0.9139\n",
      "Epoch 10/10\n",
      "52/52 [==============================] - 552s 11s/step - loss: 0.1543 - categorical_accuracy: 0.9359 - f1_score: 0.9347 - val_loss: 0.2784 - val_categorical_accuracy: 0.9141 - val_f1_score: 0.9140\n"
     ]
    },
    {
     "name": "stderr",
     "output_type": "stream",
     "text": [
      "C:\\Users\\Charvi Jain\\anaconda3\\Lib\\site-packages\\keras\\src\\engine\\training.py:3079: UserWarning: You are saving your model as an HDF5 file via `model.save()`. This file format is considered legacy. We recommend using instead the native Keras format, e.g. `model.save('my_model.keras')`.\n",
      "  saving_api.save_model(\n"
     ]
    }
   ],
   "source": [
    "DenseNet121_model = generate_model(pretrained_models['DenseNet121'], name='DenseNet121')\n",
    "callbacks = generate_callbacks('DenseNet121')\n",
    "history = DenseNet121_model.fit(train_set, callbacks=callbacks, **fit_args)\n",
    "DenseNet121_model.save('DenseNet121.h5')"
   ]
  },
  {
   "cell_type": "code",
   "execution_count": 14,
   "id": "7d47afdb",
   "metadata": {},
   "outputs": [],
   "source": [
    "densenet = load_model('DenseNet121.h5')"
   ]
  },
  {
   "cell_type": "code",
   "execution_count": 15,
   "id": "76d55fa9",
   "metadata": {},
   "outputs": [],
   "source": [
    "inputs = Input(shape=input_shape)\n",
    "densenet_preds = densenet(inputs)"
   ]
  },
  {
   "cell_type": "code",
   "execution_count": 16,
   "id": "dceee3a0",
   "metadata": {},
   "outputs": [],
   "source": [
    "# Averaging for DenseNet predictions\n",
    "outputs= densenet_preds "
   ]
  },
  {
   "cell_type": "markdown",
   "id": "31e27157",
   "metadata": {},
   "source": [
    "### Plotting training & validation accuracy and loss values"
   ]
  },
  {
   "cell_type": "code",
   "execution_count": 18,
   "id": "76728ef8",
   "metadata": {
    "scrolled": false
   },
   "outputs": [
    {
     "data": {
      "image/png": "[encoded data removed]",
      "text/plain": [
       "<Figure size 1200x600 with 2 Axes>"
      ]
     },
     "metadata": {},
     "output_type": "display_data"
    }
   ],
   "source": [
    "plt.figure(figsize=(12, 6))\n",
    "plt.subplot(1, 2, 1)\n",
    "plt.plot(history.history['categorical_accuracy'])\n",
    "plt.plot(history.history['val_categorical_accuracy'])\n",
    "plt.title('Model Accuracy')\n",
    "plt.xlabel('Epoch')\n",
    "plt.ylabel('Accuracy')\n",
    "plt.legend(['Train', 'Validation'], loc='upper left')\n",
    "\n",
    "\n",
    "plt.subplot(1, 2, 2)\n",
    "plt.plot(history.history['loss'])\n",
    "plt.plot(history.history['val_loss'])\n",
    "plt.title('Model Loss')\n",
    "plt.xlabel('Epoch')\n",
    "plt.ylabel('Loss')\n",
    "plt.legend(['Train', 'Validation'], loc='upper left')\n",
    "\n",
    "plt.tight_layout()\n",
    "plt.show()\n"
   ]
  },
  {
   "cell_type": "markdown",
   "id": "2fad81d0",
   "metadata": {},
   "source": [
    "### Generating confusion matrix and classification report"
   ]
  },
  {
   "cell_type": "code",
   "execution_count": 22,
   "id": "c4229262",
   "metadata": {},
   "outputs": [
    {
     "name": "stdout",
     "output_type": "stream",
     "text": [
      "7/7 [==============================] - 45s 6s/step\n",
      "Confusion Matrix:\n",
      "[[25 26 25 28]\n",
      " [25 34 23 28]\n",
      " [30 24 20 27]\n",
      " [24 28 28 27]]\n",
      "\n",
      "Classification Report:\n",
      "                      precision    recall  f1-score   support\n",
      "\n",
      "            glaucoma       0.24      0.24      0.24       104\n",
      "            cataract       0.30      0.31      0.31       110\n",
      "              normal       0.21      0.20      0.20       101\n",
      "diabetic_retinopathy       0.25      0.25      0.25       107\n",
      "\n",
      "            accuracy                           0.25       422\n",
      "           macro avg       0.25      0.25      0.25       422\n",
      "        weighted avg       0.25      0.25      0.25       422\n",
      "\n"
     ]
    }
   ],
   "source": [
    "from sklearn.metrics import confusion_matrix, classification_report\n",
    "\n",
    "# Predictions on the test set\n",
    "test_predictions = DenseNet121_model.predict(test_set)\n",
    "\n",
    "# Convert predictions to class labels\n",
    "test_pred_labels = np.argmax(test_predictions, axis=1)\n",
    "\n",
    "# Use the original labels from the generator\n",
    "test_true_labels = test_set.labels\n",
    "\n",
    "# If the true labels are not one-hot encoded, convert them\n",
    "if isinstance(test_true_labels[0], list):\n",
    "    test_true_labels = np.argmax(test_true_labels, axis=1)\n",
    "\n",
    "# Confusion Matrix\n",
    "conf_matrix = confusion_matrix(test_true_labels, test_pred_labels)\n",
    "print(\"Confusion Matrix:\")\n",
    "print(conf_matrix)\n",
    "\n",
    "# Classification Report\n",
    "class_report = classification_report(test_true_labels, test_pred_labels, target_names=class_names)\n",
    "print(\"\\nClassification Report:\")\n",
    "print(class_report)\n"
   ]
  },
  {
   "cell_type": "code",
   "execution_count": null,
   "id": "95b4cb96",
   "metadata": {},
   "outputs": [],
   "source": []
  }
 ],
 "metadata": {
  "kernelspec": {
   "display_name": "Python 3 (ipykernel)",
   "language": "python",
   "name": "python3"
  },
  "language_info": {
   "codemirror_mode": {
    "name": "ipython",
    "version": 3
   },
   "file_extension": ".py",
   "mimetype": "text/x-python",
   "name": "python",
   "nbconvert_exporter": "python",
   "pygments_lexer": "ipython3",
   "version": "3.11.5"
  }
 },
 "nbformat": 4,
 "nbformat_minor": 5
}
